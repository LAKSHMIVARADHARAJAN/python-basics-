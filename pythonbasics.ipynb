{
 "cells": [
  {
   "cell_type": "code",
   "execution_count": 18,
   "id": "0c13303a-984c-4dce-8c5e-ab32c9236495",
   "metadata": {},
   "outputs": [
    {
     "name": "stdout",
     "output_type": "stream",
     "text": [
      "2 3 3 3 5 7 9 "
     ]
    }
   ],
   "source": [
    "#pigeonhole\n",
    "def pigeon(a):\n",
    "    mmin=min(a)\n",
    "    mmax=max(a)\n",
    "    size=mmax-mmin+1\n",
    "    holes=[0]*size\n",
    "    for x in a:\n",
    "        holes[x-mmin]+=1\n",
    "    i=0\n",
    "    for count in range(size):\n",
    "        while holes[count]>0:\n",
    "              holes[count]-=1\n",
    "              a[i]=count+mmin\n",
    "              i=i+1\n",
    "a=[2,5,3,7,3,9,3]\n",
    "pigeon(a)\n",
    "for  i in range(0,len(a)):\n",
    "    print(a[i],end=\" \")"
   ]
  },
  {
   "cell_type": "code",
   "execution_count": 20,
   "id": "f6ddffe7-e90c-4bbd-ae26-845912f15953",
   "metadata": {},
   "outputs": [],
   "source": [
    "#bfs\n",
    "import collections"
   ]
  },
  {
   "cell_type": "code",
   "execution_count": 60,
   "id": "f3faaf3b-5d01-43a5-85be-bf199194f0cd",
   "metadata": {},
   "outputs": [
    {
     "name": "stdout",
     "output_type": "stream",
     "text": [
      "0  1  2  3  "
     ]
    }
   ],
   "source": [
    "def bfs(graph,root):\n",
    "    visited,queue=set(),collections.deque([root])\n",
    "    visited.add(root)\n",
    "    while queue:\n",
    "        vertex=queue.popleft()\n",
    "        print(str(vertex)+\" \",end=\" \")\n",
    "        for n in graph[vertex]:\n",
    "            if n not in visited:\n",
    "                visited.add(n)\n",
    "                queue.append(n)\n",
    "if __name__=='__main__':\n",
    "    graph={0:[1,2],1:[2],2:[3],3:[1,2]}\n",
    "    bfs(graph,0)"
   ]
  },
  {
   "cell_type": "code",
   "execution_count": 8,
   "id": "1799fe7c-02aa-4b84-923b-3317679b5209",
   "metadata": {},
   "outputs": [
    {
     "name": "stdin",
     "output_type": "stream",
     "text": [
      "enter first value: 4\n",
      "enter second number: 6\n"
     ]
    },
    {
     "name": "stdout",
     "output_type": "stream",
     "text": [
      "addition:10\n",
      "sub:-2\n",
      "mult:24\n",
      "division:0.6666666666666666\n",
      "modulo:4\n"
     ]
    }
   ],
   "source": [
    "#arithmetic \n",
    "a=int(input( \"enter first value:\"))\n",
    "b=int(input(\"enter second number:\"))\n",
    "print(f\"addition:{a+b}\")\n",
    "print(f\"sub:{a-b}\")\n",
    "print(f\"mult:{a*b}\")\n",
    "print(f\"division:{a/b}\")\n",
    "print(f\"modulo:{a%b}\")"
   ]
  },
  {
   "cell_type": "code",
   "execution_count": 14,
   "id": "9ba04792-621b-4f6d-8fa7-454dad11d11e",
   "metadata": {},
   "outputs": [
    {
     "name": "stdin",
     "output_type": "stream",
     "text": [
      "enter first value: 44\n",
      "enter second number: 33\n"
     ]
    },
    {
     "name": "stdout",
     "output_type": "stream",
     "text": [
      "44==33:False\n",
      "44!=33:True\n",
      "44>=33:True\n",
      "44<=33:False\n",
      "44>33:True\n",
      "44<33False\n"
     ]
    }
   ],
   "source": [
    "#comparison\n",
    "a=int(input( \"enter first value:\"))\n",
    "b=int(input(\"enter second number:\"))\n",
    "print(f\"{a}=={b}:{a==b}\")\n",
    "print(f\"{a}!={b}:{a!=b}\")\n",
    "print(f\"{a}>={b}:{a>=b}\")\n",
    "print(f\"{a}<={b}:{a<=b}\")\n",
    "print(f\"{a}>{b}:{a>b}\")\n",
    "print(f\"{a}<{b}{a<b}\")\n",
    "\n"
   ]
  },
  {
   "cell_type": "code",
   "execution_count": 25,
   "id": "a7f51789-3558-4454-9233-1c039c67755a",
   "metadata": {},
   "outputs": [
    {
     "name": "stdin",
     "output_type": "stream",
     "text": [
      "enter first value: 1\n",
      "enter second number: 0\n"
     ]
    },
    {
     "name": "stdout",
     "output_type": "stream",
     "text": [
      "TrueandTrue:True\n",
      "Trueor True:True\n",
      " not True:False\n"
     ]
    }
   ],
   "source": [
    "#logical\n",
    "a=bool(input( \"enter first value:\"))\n",
    "b=bool(input(\"enter second number:\"))\n",
    "print(f\"{a}and{b}:{a and b}\")\n",
    "print(f\"{a}or {b}:{a or b}\")\n",
    "print(f\" not {b}:{ not b}\")\n",
    "\n"
   ]
  },
  {
   "cell_type": "code",
   "execution_count": 47,
   "id": "b8ed4e7e-66ed-4ec4-a94b-167fa6f64cc1",
   "metadata": {},
   "outputs": [
    {
     "name": "stdin",
     "output_type": "stream",
     "text": [
      "enter number 3\n"
     ]
    },
    {
     "name": "stdout",
     "output_type": "stream",
     "text": [
      "* \n",
      "* * \n",
      "* * * \n"
     ]
    }
   ],
   "source": [
    "#nested\n",
    "n=int(input(\"enter number\"))\n",
    "for i in range(1,n+1):\n",
    "    for j in range(1,i+1):\n",
    "        print(\"*\",end=\" \")\n",
    "    print()  "
   ]
  },
  {
   "cell_type": "code",
   "execution_count": 57,
   "id": "7075e334-e78c-4595-b421-0b558ee9d27d",
   "metadata": {
    "scrolled": true
   },
   "outputs": [
    {
     "name": "stdout",
     "output_type": "stream",
     "text": [
      "0\n",
      "1\n",
      "2\n",
      "3\n",
      "4\n",
      "6\n",
      "7\n"
     ]
    }
   ],
   "source": [
    "# break and continue\n",
    "x=10\n",
    "for i in range(11):\n",
    "   if i==5:\n",
    "      continue\n",
    "   elif i==8:\n",
    "      break\n",
    "   else:\n",
    "      print(i)\n",
    "    "
   ]
  },
  {
   "cell_type": "code",
   "execution_count": 65,
   "id": "77b82181-0e78-47fc-978d-b3a5fd5d2027",
   "metadata": {},
   "outputs": [
    {
     "name": "stdout",
     "output_type": "stream",
     "text": [
      "[0, 2, 4, 6, 8, 10, 12, 14, 16, 18]\n"
     ]
    }
   ],
   "source": [
    "#list comprehension\n",
    "n=[x for x in range(20) if x%2==0]\n",
    "print(n)"
   ]
  },
  {
   "cell_type": "code",
   "execution_count": null,
   "id": "8824905a-c0d4-42b0-a287-da675135b711",
   "metadata": {},
   "outputs": [],
   "source": []
  },
  {
   "cell_type": "code",
   "execution_count": 78,
   "id": "b349851a-ed2e-44b7-8572-9d473dccbc06",
   "metadata": {},
   "outputs": [
    {
     "name": "stdin",
     "output_type": "stream",
     "text": [
      "enter a number: 8\n",
      " enter number: u\n"
     ]
    },
    {
     "name": "stdout",
     "output_type": "stream",
     "text": [
      "nvalid\n"
     ]
    }
   ],
   "source": [
    "#error handling\n",
    "try:\n",
    "    x=int(input(\"enter a number:\"))\n",
    "    y=int(input(\" enter number:\"))\n",
    "    z=x/y\n",
    "except ZeroDivisionError:\n",
    "    print(\"no zero\")\n",
    "except ValueError:\n",
    "    print(\"nvalid\")\n"
   ]
  },
  {
   "cell_type": "code",
   "execution_count": 2,
   "id": "562377b0-98be-495e-a750-7529679380fa",
   "metadata": {},
   "outputs": [],
   "source": [
    "import heapq"
   ]
  },
  {
   "cell_type": "code",
   "execution_count": 71,
   "id": "5f9bd68d-59e9-49fb-8b62-ab6941e0923e",
   "metadata": {},
   "outputs": [
    {
     "name": "stdout",
     "output_type": "stream",
     "text": [
      "9\n",
      "16\n"
     ]
    }
   ],
   "source": [
    "class Solution(object):\n",
    "    def nth_ugly_num(self,n):\n",
    "        ugly_num=0\n",
    "        heap=[]\n",
    "        heapq.heappush(heap,1)\n",
    "        for _ in range(n):\n",
    "             ugly_num=heapq.heappop(heap)\n",
    "             if ugly_num%2==0:\n",
    "                 heapq.heappush(heap,ugly_num*2)\n",
    "             elif ugly_num%3==0:\n",
    "                 heapq.heappush(heap,ugly_num*3)\n",
    "             else:\n",
    "                 heapq.heappush(heap,ugly_num*2)\n",
    "                 heapq.heappush(heap,ugly_num*3)\n",
    "                 heapq.heappush(heap,ugly_num*5)\n",
    "        return ugly_num\n",
    "n=7\n",
    "S=Solution()\n",
    "result=S.nth_ugly_num(n)\n",
    "print(result)\n",
    "n=10\n",
    "result=S.nth_ugly_num(n)\n",
    "print(result)"
   ]
  },
  {
   "cell_type": "code",
   "execution_count": 85,
   "id": "e610bb2b-8657-40f2-979a-c1fe99198d18",
   "metadata": {},
   "outputs": [
    {
     "name": "stdin",
     "output_type": "stream",
     "text": [
      "enter a number 9\n"
     ]
    },
    {
     "name": "stdout",
     "output_type": "stream",
     "text": [
      "the recursion is 285\n"
     ]
    }
   ],
   "source": [
    "#recursion\n",
    "def recursion(number):\n",
    "    if number==0:\n",
    "        return 0\n",
    "    else:\n",
    "        return (number*number)+recursion(number-1)\n",
    "num=int(input(\"enter a number\"))\n",
    "total=recursion(num)\n",
    "print(\"the recursion is\",total)"
   ]
  },
  {
   "cell_type": "code",
   "execution_count": 126,
   "id": "d5a68fdf-02ef-4ced-b451-7e87b1869824",
   "metadata": {},
   "outputs": [
    {
     "name": "stdout",
     "output_type": "stream",
     "text": [
      "\n",
      "                             1                              \n",
      "              2                             3               \n",
      "       4              7              9              10      \n",
      "   8      16     14  \n",
      "------------------------------------------------------------\n"
     ]
    }
   ],
   "source": [
    "import math\n",
    "from io import StringIO\n",
    "def show_tree(tree, total_width=60, fill=' '):\n",
    "   output = StringIO()\n",
    "   last_row = -1\n",
    "   for i, n in enumerate(tree):\n",
    "      if i:\n",
    "         row = int(math.floor(math.log(i+1, 2)))\n",
    "      else:\n",
    "         row = 0\n",
    "      if row != last_row:\n",
    "            output.write('\\n')\n",
    "      columns = 2**row\n",
    "      col_width = int(math.floor((total_width * 1.0) / columns)) \n",
    "      output.write(str(n).center(col_width, fill))\n",
    "      last_row = row\n",
    "   print (output.getvalue())\n",
    "   print ('-' * total_width)\n",
    "      \n",
    "import heapq\n",
    "heap = []\n",
    "heapq.heappush(heap, 1)\n",
    "heapq.heappush(heap, 2)\n",
    "heapq.heappush(heap, 3)\n",
    "heapq.heappush(heap, 4)\n",
    "heapq.heappush(heap, 7)\n",
    "heapq.heappush(heap, 9)\n",
    "heapq.heappush(heap, 10)\n",
    "heapq.heappush(heap, 8)\n",
    "heapq.heappush(heap, 16)\n",
    "heapq.heappush(heap, 14)\n",
    "show_tree(heap)"
   ]
  },
  {
   "cell_type": "code",
   "execution_count": 35,
   "id": "e074014b-4d78-46b8-8242-846c6f9298c2",
   "metadata": {},
   "outputs": [],
   "source": [
    "import turtle\n",
    "def draw_bear():\n",
    " turtle.speed(2)\n",
    " turtle.bgcolor(\"lightblue\")\n",
    " turtle.penup()\n",
    " turtle.goto(0, -100)\n",
    " turtle.pendown()\n",
    " turtle.color(\"brown\")\n",
    " turtle.begin_fill()\n",
    " turtle.circle(80)\n",
    " turtle.end_fill()\n",
    " #Draw the bear’s ear\n",
    " turtle.penup()\n",
    " turtle.goto(-30, 50)\n",
    " turtle.pendown()\n",
    "\n",
    " turtle.color(\"brown\")\n",
    " turtle.begin_fill()\n",
    " turtle.circle(20)\n",
    " turtle.end_fill()\n",
    " \n",
    " turtle.penup()\n",
    " turtle.goto(30, 50)\n",
    " turtle.pendown()\n",
    " turtle.color(\"brown\")\n",
    " turtle.begin_fill()\n",
    " turtle.circle(20)\n",
    " turtle.end_fill()\n",
    " \n",
    " # Draw the bear’s eyes\n",
    " turtle.penup()\n",
    " turtle.goto(-20, 10)\n",
    " turtle.pendown()\n",
    " turtle.color(\"black\")\n",
    " turtle.begin_fill()\n",
    " turtle.circle(8)\n",
    " turtle.end_fill()\n",
    " \n",
    " turtle.penup()\n",
    " turtle.goto(20, 10)\n",
    " turtle.pendown()\n",
    " turtle.color(\"black\")\n",
    " turtle.begin_fill()\n",
    " turtle.circle(8)\n",
    " turtle.end_fill()\n",
    " #Draw the bear’s nose\n",
    " turtle.penup()\n",
    " turtle.goto(0, -5)\n",
    " turtle.pendown()\n",
    " turtle.color(\"black\")\n",
    " turtle.begin_fill()\n",
    " turtle.circle(3)\n",
    " turtle.end_fill()\n",
    " #Draw the bear’s Smiling mouth\n",
    " turtle.penup()\n",
    " turtle.goto(-20, -20)\n",
    " turtle.pendown()\n",
    " turtle.color(\"black\")\n",
    " turtle.width(3)\n",
    " turtle.right(90) \n",
    " turtle.circle(20, 180) # #Draw the semicircle for a smile\n",
    " # Hide the turtle\n",
    " turtle.hideturtle()\n",
    " # Keep the window open\n",
    " turtle.done()\n",
    "#Draw the bear\n",
    "\n",
    "draw_bear()"
   ]
  },
  {
   "cell_type": "code",
   "execution_count": 9,
   "id": "d4b54744-0260-406e-b857-86b4a5723d72",
   "metadata": {},
   "outputs": [
    {
     "name": "stdout",
     "output_type": "stream",
     "text": [
      "Third largest element: 41\n",
      "\n",
      "Second largest element: 50\n",
      "\n",
      "Fifth largest element: 12\n"
     ]
    }
   ],
   "source": [
    "import heapq\n",
    "class Solution(object):\n",
    "    def find_Largest(self, nums, k):\n",
    "       h = []\n",
    "       for e in nums:\n",
    "           heapq.heappush(h, (-e, e))\n",
    "       for i in  range(k):\n",
    "           w, e = heapq.heappop(h)\n",
    "           if i == k - 1:\n",
    "               return e\n",
    "nums = [12, 14, 9, 50, 61, 41]\n",
    "s = Solution()\n",
    "result = s.find_Largest(nums, 3)\n",
    "print(\"Third largest element:\",result)\n",
    "result = s.find_Largest(nums, 2)\n",
    "print(\"\\nSecond largest element:\",result)\n",
    "result = s.find_Largest(nums, 5)\n",
    "print(\"\\nFifth largest element:\",result)"
   ]
  },
  {
   "cell_type": "code",
   "execution_count": 11,
   "id": "cdc2189c-a7f1-4e0f-862b-64ac497c21fe",
   "metadata": {},
   "outputs": [
    {
     "name": "stdin",
     "output_type": "stream",
     "text": [
      " enter dictionary 1: 1\n"
     ]
    },
    {
     "name": "stdout",
     "output_type": "stream",
     "text": [
      "key\n"
     ]
    },
    {
     "name": "stdin",
     "output_type": "stream",
     "text": [
      "enter key11= name\n",
      "enter key12= class\n",
      "enter val11= sddhu\n",
      "enter val12= ii\n"
     ]
    },
    {
     "name": "stdout",
     "output_type": "stream",
     "text": [
      "{1: 1}\n"
     ]
    },
    {
     "name": "stdin",
     "output_type": "stream",
     "text": [
      " enter dictionary 2: 1\n"
     ]
    },
    {
     "name": "stdout",
     "output_type": "stream",
     "text": [
      "key\n"
     ]
    },
    {
     "name": "stdin",
     "output_type": "stream",
     "text": [
      "enter key21= name\n",
      "enter key22= dept\n",
      "enter val21= sddhu\n",
      "enter val22= mba\n"
     ]
    },
    {
     "name": "stdout",
     "output_type": "stream",
     "text": [
      "{1: 1}\n",
      "common item from dict {1}\n"
     ]
    }
   ],
   "source": [
    "key1=[]\n",
    "val1=[]\n",
    "nums=int(input(\" enter dictionary 1:\"))\n",
    "print(\"key\")\n",
    "for i in range(0,nums+1):\n",
    "    x=str(input(\"enter key1\"+str(i+1)+ \"=\"))\n",
    "    key1.append(nums)\n",
    "for i in range(0,nums+1):\n",
    "    x=str(input(\"enter val1\"+str(i+1)+ \"=\"))\n",
    "    val1.append(nums)\n",
    "dict1=dict(zip(key1,val1))\n",
    "print(dict1)\n",
    "set1=(dict1.keys())\n",
    "key2=[]\n",
    "val2=[]\n",
    "nums=int(input(\" enter dictionary 2:\"))\n",
    "print(\"key\")\n",
    "for i in range(0,nums+1):\n",
    "    y=str(input(\"enter key2\"+str(i+1)+ \"=\"))\n",
    "    key2.append(nums)\n",
    "for i in range(0,nums+1):\n",
    "    y=str(input(\"enter val2\"+str(i+1)+ \"=\"))\n",
    "    val2.append(nums)\n",
    "dict2=dict(zip(key2,val2))\n",
    "print(dict2)\n",
    "set2=set(dict2.keys())\n",
    "common=set1&set2\n",
    "print(\"common item from dict\",common)\n",
    "\n"
   ]
  },
  {
   "cell_type": "code",
   "execution_count": 50,
   "id": "ecb7736e-0953-4b91-996c-a9d4bbfdc574",
   "metadata": {},
   "outputs": [
    {
     "name": "stdin",
     "output_type": "stream",
     "text": [
      " enter your choice: paper\n"
     ]
    },
    {
     "name": "stdout",
     "output_type": "stream",
     "text": [
      " computer won\n"
     ]
    }
   ],
   "source": [
    "#rock paper scissor\n",
    "import random\n",
    "def game():\n",
    "    choices=[\"rock\",\"paper\",\"scissor\"]\n",
    "    your_choice=str(input(\" enter your choice:\")).lower()\n",
    "    if your_choice not in choices:\n",
    "        print(\" invlid option\")\n",
    "    computer=random.choice(choices)\n",
    "    if your_choice==computer:\n",
    "        print(\" its tie buddy\")\n",
    "    elif (computer==\"rock\"and your_choice==\"paper\")or(computer==\"paper\" and your_choice==\"scissor\")or (computer==\"scissor\" and your_choice==\"rock\"):\n",
    "              print(\" you won\")\n",
    "    else:\n",
    "         print(\" computer won\")\n",
    "game()"
   ]
  },
  {
   "cell_type": "code",
   "execution_count": 20,
   "id": "b020b7e0-ec67-4077-bd05-3ca5a0dfbc52",
   "metadata": {},
   "outputs": [
    {
     "name": "stdout",
     "output_type": "stream",
     "text": [
      "50\n"
     ]
    }
   ],
   "source": [
    "#abstract method\n",
    "from abc import ABC,abstractmethod\n",
    "class Shapes():\n",
    "    def area():\n",
    "        pass\n",
    "class Rectangle():\n",
    "    def __init__(self,height,weight):\n",
    "         self.height=height\n",
    "         self.weight=weight\n",
    "    def area(self):\n",
    "         return self.weight*self.height\n",
    "shapes=Rectangle(10,5)\n",
    "print(shapes.area())"
   ]
  },
  {
   "cell_type": "code",
   "execution_count": 56,
   "id": "9b694c28-03f3-4d11-a969-c6d2fc553c35",
   "metadata": {},
   "outputs": [
    {
     "name": "stdout",
     "output_type": "stream",
     "text": [
      "generic\n",
      "bark\n",
      "Meow\n"
     ]
    }
   ],
   "source": [
    "#polymorphism inheritance\n",
    "class Animal:\n",
    "    def sound(self):\n",
    "        print(\"generic\")\n",
    "class Dog(Animal):\n",
    "     def sound(self):\n",
    "         print(\"bark\")\n",
    "class Cat(Animal):\n",
    "     def sound(self):\n",
    "         print(\"Meow\")\n",
    "animals=[Animal(),Dog(),Cat()]\n",
    "for animal in animals:\n",
    "    animal.sound()\n"
   ]
  },
  {
   "cell_type": "code",
   "execution_count": 74,
   "id": "b5c8382f-b1ca-4710-a728-5750ae070cc1",
   "metadata": {},
   "outputs": [
    {
     "name": "stdout",
     "output_type": "stream",
     "text": [
      "Deposited 500. New balance is 1500.\n",
      "Withdrew200. New balance is 1300.\n"
     ]
    }
   ],
   "source": [
    "#encapsulation\n",
    "class BankAccount:\n",
    "   def __init__(self, account_number, balance):\n",
    "        self.account_number = account_number\n",
    "        self.balance = balance\n",
    "   def deposit(self, amount): \n",
    "         self.balance += amount\n",
    "         print(f\"Deposited {amount}. New balance is {self.balance}.\")\n",
    "   def withdraw(self, amount):\n",
    "         if amount <= self.balance:\n",
    "             self.balance -= amount\n",
    "             print(f\"Withdrew{amount}. New balance is {self. balance}.\")\n",
    "         else:\n",
    "             print(\"Insufficient balance.\")\n",
    "account = BankAccount(\"123456789\", 1000)\n",
    "account.deposit(500) \n",
    "account.withdraw(200)"
   ]
  },
  {
   "cell_type": "code",
   "execution_count": 5,
   "id": "c3ce9d6b-773c-4e26-abe1-529bebc64086",
   "metadata": {},
   "outputs": [
    {
     "name": "stdout",
     "output_type": "stream",
     "text": [
      "11\n"
     ]
    }
   ],
   "source": [
    "#calci\n",
    "def calci(operation,n1,n2):\n",
    "    switcher={\n",
    "        'add':n1+n2,\n",
    "        'sub':n1-n2,\n",
    "        'mult':n1*n2,\n",
    "        'div':n1/n2}\n",
    "    return switcher.get(operation,\"invalid\")\n",
    "print(calci('add',6,5))"
   ]
  },
  {
   "cell_type": "code",
   "execution_count": 11,
   "id": "3b7532b0-ffc2-4c02-93b7-0b48c2c9b58d",
   "metadata": {},
   "outputs": [
    {
     "data": {
      "text/plain": [
       "'sunday'"
      ]
     },
     "execution_count": 11,
     "metadata": {},
     "output_type": "execute_result"
    }
   ],
   "source": [
    "#day of week\n",
    "def dayofweek(day):\n",
    "    switcher={\n",
    "        'day1':\"sunday\",\n",
    "        'day2':\"monday\"}\n",
    "    return switcher.get(day,\"nvalid\")\n",
    "dayofweek('day1')\n",
    "        "
   ]
  },
  {
   "cell_type": "code",
   "execution_count": 13,
   "id": "041d551f-e43d-4c08-8493-8453e517a542",
   "metadata": {},
   "outputs": [
    {
     "data": {
      "text/plain": [
       "'dog'"
      ]
     },
     "execution_count": 13,
     "metadata": {},
     "output_type": "execute_result"
    }
   ],
   "source": [
    "#animalsound\n",
    "def animal(sound):\n",
    "    switcher={\n",
    "        'bark':\"dog\",\n",
    "        'meow':\"cat\"}\n",
    "    return switcher.get(sound,\"invalid\")\n",
    "animal('bark')"
   ]
  },
  {
   "cell_type": "code",
   "execution_count": 31,
   "id": "dd48a27b-a20c-478a-99b9-256227c8453a",
   "metadata": {},
   "outputs": [
    {
     "data": {
      "text/plain": [
       "6.0"
      ]
     },
     "execution_count": 31,
     "metadata": {},
     "output_type": "execute_result"
    }
   ],
   "source": [
    "#shape area calci\n",
    "def findarea(shape,r):\n",
    "    if shape=='circle':\n",
    "        return 3.14*r*2\n",
    "    elif shape=='square':\n",
    "        return r*r\n",
    "    elif shape=='triangle':\n",
    "        return 0.5*r[0]*r[1]\n",
    "    else:\n",
    "        print(\"invalid\")\n",
    "findarea('triangle',(3,4))"
   ]
  },
  {
   "cell_type": "code",
   "execution_count": 35,
   "id": "5356f382-8cd1-4c56-96b9-a66f323478fc",
   "metadata": {},
   "outputs": [
    {
     "data": {
      "text/plain": [
       "0.0"
      ]
     },
     "execution_count": 35,
     "metadata": {},
     "output_type": "execute_result"
    }
   ],
   "source": [
    "#temp converter\n",
    "def temp(n,value):\n",
    "    if n=='c':\n",
    "        return (value*9/5)+32\n",
    "    elif n=='f':\n",
    "        return (value-32)*5/9\n",
    "    else:\n",
    "        print(\"invalid\")\n",
    "temp('f',32)"
   ]
  },
  {
   "cell_type": "code",
   "execution_count": 53,
   "id": "e580ddab-8754-4223-bf83-d7bba257d812",
   "metadata": {},
   "outputs": [
    {
     "name": "stdout",
     "output_type": "stream",
     "text": [
      "Unknown command\n"
     ]
    }
   ],
   "source": [
    "#command line parser\n",
    "import sys\n",
    "def cli_parser(command):\n",
    "      switcher = {\n",
    "            'start': \"Starting the program...\",\n",
    "             'stop': \"Stopping the program...\",\n",
    "             'restart': \"Restarting the program...\"}\n",
    "      return switcher.get(command, \"Unknown command\")\n",
    "cli_parser('stop')\n",
    "if len(sys.argv) > 1:\n",
    "     print(cli_parser(sys.argv[1]))\n",
    "else:\n",
    "     print(\"No command provided\")\n"
   ]
  },
  {
   "cell_type": "code",
   "execution_count": 73,
   "id": "41a72238-8ac6-4c95-ada4-1355c3e5c082",
   "metadata": {},
   "outputs": [
    {
     "name": "stdout",
     "output_type": "stream",
     "text": [
      "85.0\n"
     ]
    }
   ],
   "source": [
    "#currency converter\n",
    "def currency_converter(amount, currency):\n",
    "      switcher = {\n",
    "           'USD_to_EUR': 0.85,\n",
    "           'EUR_to_USD': 1.18,\n",
    "           'USD_to_GBP': 0.75,\n",
    "           'GBP_to_USD': 1.33\n",
    "              }\n",
    "      if currency=='USD_to_EUR':\n",
    "           return amount * 0.85\n",
    "      else:\n",
    "           return \"Invalid currency pair\"\n",
    "print(currency_converter(100, 'USD_to_EUR')) "
   ]
  },
  {
   "cell_type": "code",
   "execution_count": 81,
   "id": "e3d40332-5a75-4b24-afd7-85c74fab4184",
   "metadata": {},
   "outputs": [
    {
     "data": {
      "text/plain": [
       "[2, 3, 4, 5, 6]"
      ]
     },
     "execution_count": 81,
     "metadata": {},
     "output_type": "execute_result"
    }
   ],
   "source": [
    "#reverse list\n",
    "def reverse(lst):\n",
    "    return lst[::-1]\n",
    "sample=[6,5,4,3,2]\n",
    "reverse(sample)"
   ]
  },
  {
   "cell_type": "code",
   "execution_count": 111,
   "id": "3b1b5347-ed4c-4eb4-ab86-46757eaee704",
   "metadata": {},
   "outputs": [
    {
     "data": {
      "text/plain": [
       "'false'"
      ]
     },
     "execution_count": 111,
     "metadata": {},
     "output_type": "execute_result"
    }
   ],
   "source": [
    "#palindrome\n",
    "def is_palindrome(s):\n",
    "   a=s[::-1]\n",
    "   if a==s:\n",
    "     return 'true'\n",
    "   else:\n",
    "     return 'false'\n",
    "is_palindrome('radaom')"
   ]
  },
  {
   "cell_type": "code",
   "execution_count": 138,
   "id": "0608d8cf-a11c-4181-a16a-a2ff32dcf63c",
   "metadata": {},
   "outputs": [
    {
     "name": "stdout",
     "output_type": "stream",
     "text": [
      "['lakshmivaradhu@gmail.com']\n"
     ]
    }
   ],
   "source": [
    "#email extraction\n",
    "import re\n",
    "def email(text):\n",
    "    pattern=r'\\b[A-Za-z0-9.,_]+@[A-Za-z0-9.,_]+[A-Za-z]{2,}\\b'\n",
    "    email=re.findall(pattern,text)\n",
    "    return email\n",
    "sample=\"hi! this is lakshmi, lakshmivaradhu@gmail.com\"\n",
    "extract=email(sample)\n",
    "print(extract)"
   ]
  },
  {
   "cell_type": "code",
   "execution_count": null,
   "id": "aee23d54-32ca-4286-9bf6-875908b2dee7",
   "metadata": {},
   "outputs": [
    {
     "name": "stdout",
     "output_type": "stream",
     "text": [
      "option: rock,paper,scissor\n"
     ]
    },
    {
     "name": "stdin",
     "output_type": "stream",
     "text": [
      "enter your choice: fff\n"
     ]
    },
    {
     "name": "stdout",
     "output_type": "stream",
     "text": [
      "invlalid option\n",
      "option: rock,paper,scissor\n"
     ]
    },
    {
     "name": "stdin",
     "output_type": "stream",
     "text": [
      "enter your choice: ff\n"
     ]
    },
    {
     "name": "stdout",
     "output_type": "stream",
     "text": [
      "invlalid option\n",
      "option: rock,paper,scissor\n"
     ]
    }
   ],
   "source": [
    "# rock paper \n",
    "import random\n",
    "def game():\n",
    "    lst=[\"rock\",\"paper\",\"scissor\"]\n",
    "    print(\"option: rock,paper,scissor\")\n",
    "    your_choice=input(\"enter your choice:\").lower()\n",
    "    if your_choice not in lst:\n",
    "        print(\"invlalid option,plz enter right choice\")\n",
    "        return\n",
    "    computer=random.choice(lst)\n",
    "    if your_choice==computer:\n",
    "        print(\"tie\")\n",
    "    elif your_choice==\"rock\" and computer=='scissor' or your_choice=='scissor' and computer=='paper' or your_choice=='paper' and computer == 'rock':\n",
    "        print(\"you won\")\n",
    "    else:\n",
    "        print(\"computer won\")\n",
    "game()"
   ]
  },
  {
   "cell_type": "code",
   "execution_count": null,
   "id": "e9f452bd-d43f-4a46-be7a-61301bac81f4",
   "metadata": {},
   "outputs": [],
   "source": [
    "import random\n",
    "def play_game():\n",
    " choices = [\"rock\", \"paper\", \"scissors\"]\n",
    " user_choice = input(\"Enter your choice (rock, paper, or scissors): \").lower()\n",
    " if user_choice not in choices: \n",
    " print(\"Invalid choice. Please choose rock, paper, or scissors.\")\n",
    " return\n",
    " print(f\"\\nYou chose: {user_choice}\")\n",
    " print(f\"Computer chose: {computer_choice}\\n\")\n",
    " if user_choice == computer_choice:\n",
    " print(\"It's a tie!\")\n",
    " elif (\n",
    " (user_choice ==\"rock\" and computer_choice == \"scissors\") or\n",
    " (user_choice==\"paper\" and computer_choice ==\"rock\") or\n",
    " (user_choice ==\"scissors\" and computer_choice== \"paper\")\n",
    " ):\n",
    " print(\"You win!\")\n",
    " else:\n",
    " print(\"Computer wins!\")\n",
    "if __name__==\"__main__\": \n",
    " play_game()"
   ]
  },
  {
   "cell_type": "code",
   "execution_count": null,
   "id": "9e664d9a-9c51-4ff0-b7bb-17e8b61fbe44",
   "metadata": {},
   "outputs": [],
   "source": [
    "# rock paper scissor\n",
    "import random\n",
    "def game():\n",
    "    lst=[\"rock\",\"paper\",\"scissor\"]\n",
    "    print(\"option: rock,paper,scissor\")\n",
    "    your_choice=input(\"enter your choice:\").lower()\n",
    "    if your_choice not in lst:\n",
    "        print(\"invlalid option,plz enter right choice\")\n",
    "        return\n",
    "    computer=random.choice(lst)\n",
    "    if your_choice==computer:\n",
    "        print(\"tie\")\n",
    "    elif your_choice==\"rock\" and computer=='scissor' or your_choice=='scissor' and computer=='paper' or your_choice=='paper' and computer == 'rock':\n",
    "        print(\"you won\")\n",
    "    else:\n",
    "        print(\"computer won\")\n",
    "game()"
   ]
  },
  {
   "cell_type": "code",
   "execution_count": 30,
   "id": "b7396a9b-a2a0-47c3-9bff-e7ba8e67dac2",
   "metadata": {},
   "outputs": [
    {
     "name": "stdin",
     "output_type": "stream",
     "text": [
      "enter no.of keys in dict1: 3\n",
      "enter key2: name\n",
      "enter key3: reg\n",
      " enter value2: lakshmi\n",
      " enter value3: 26\n"
     ]
    },
    {
     "name": "stdout",
     "output_type": "stream",
     "text": [
      "dictionary one is: {'name': 'lakshmi', 'reg': '26'}\n"
     ]
    },
    {
     "name": "stdin",
     "output_type": "stream",
     "text": [
      "enter no.of keys in dict2: 3\n",
      "enter key2: name\n",
      "enter key3: mark\n",
      " enter value2: lakshmi\n",
      " enter value3: 99\n"
     ]
    },
    {
     "name": "stdout",
     "output_type": "stream",
     "text": [
      "dictionary two is: {'name': 'lakshmi', 'mark': '99'}\n",
      "{'name'}\n"
     ]
    }
   ],
   "source": [
    "#dictionary\n",
    "val1=[]\n",
    "key1=[]\n",
    "num1=int(input(\"enter no.of keys in dict1:\"))\n",
    "for i in range(1,num1):\n",
    "      key1.append(input(f\"enter key{i+1}:\"))\n",
    "for i in range(1,num1):\n",
    "      val1.append(input(f\" enter value{i+1}:\"))\n",
    "dict1=dict(zip(key1,val1))\n",
    "print(\"dictionary one is:\",dict1)\n",
    "set1=set(dict1.keys())\n",
    "val2=[]\n",
    "key2=[]\n",
    "num2=int(input(\"enter no.of keys in dict2:\"))\n",
    "for i in range(1,num2):\n",
    "         key2.append(input(f\"enter key{i+1}:\"))\n",
    "for i in range(1,num2):\n",
    "         val2.append(input(f\" enter value{i+1}:\"))\n",
    "dict2=dict(zip(key2,val2))\n",
    "print(\"dictionary two is:\",dict2)\n",
    "set2=set(dict2.keys())\n",
    "common=set1&set2 \n",
    "print(common)\n"
   ]
  },
  {
   "cell_type": "code",
   "execution_count": null,
   "id": "5cde9f51-bfc4-49f7-8bdd-9bdebad24fab",
   "metadata": {},
   "outputs": [],
   "source": []
  }
 ],
 "metadata": {
  "kernelspec": {
   "display_name": "Python 3 (ipykernel)",
   "language": "python",
   "name": "python3"
  },
  "language_info": {
   "codemirror_mode": {
    "name": "ipython",
    "version": 3
   },
   "file_extension": ".py",
   "mimetype": "text/x-python",
   "name": "python",
   "nbconvert_exporter": "python",
   "pygments_lexer": "ipython3",
   "version": "3.12.4"
  }
 },
 "nbformat": 4,
 "nbformat_minor": 5
}
